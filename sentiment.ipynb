{
 "cells": [
  {
   "cell_type": "code",
   "execution_count": 1,
   "metadata": {},
   "outputs": [],
   "source": [
    "from textblob import TextBlob\n",
    "import sys\n",
    "import tweepy\n",
    "import matplotlib.pyplot as plt\n",
    "import pandas as pd\n",
    "import numpy as np\n",
    "import os\n",
    "import nltk\n",
    "import pycountry\n",
    "import re\n",
    "import string\n",
    "import pymongo\n",
    "import datetime\n",
    "import json\n",
    "import base64\n",
    "import time\n",
    "from nltk.corpus import stopwords\n",
    "from nltk.tokenize import word_tokenize\n",
    "\n",
    "from wordcloud import WordCloud, STOPWORDS\n",
    "from PIL import Image\n",
    "from nltk.sentiment.vader import SentimentIntensityAnalyzer\n",
    "from langdetect import detect\n",
    "from nltk.stem import SnowballStemmer\n",
    "from nltk.sentiment.vader import SentimentIntensityAnalyzer\n",
    "from sklearn.feature_extraction.text import CountVectorizer"
   ]
  },
  {
   "cell_type": "code",
   "execution_count": 2,
   "metadata": {},
   "outputs": [
    {
     "name": "stdout",
     "output_type": "stream",
     "text": [
      "Successful Authentication!!\n"
     ]
    }
   ],
   "source": [
    "consumer_key = \"TqbTZEf7UL5yKuuIwNTFIR3sV\"\n",
    "consumer_secret = \"bY3HtJfLi6hmBfaefRMSi8DQzNaIKdvIIJsAmDSLvwdkmoqSM0\"\n",
    "access_token = \"4180437988-cKm4LNohEn1F7rY3DRIiPvGuaqAJdfQ6zuOhOsI\"\n",
    "access_token_secret = \"Io9pva3uXQguf2P0w20p2aXbG70cXNuF6OSLrA2mwjHnZ\"\n",
    "\n",
    "\n",
    "\n",
    "MONGO_HOST= \"mongodb://localhost:27017/\"\n",
    "\n",
    "auth = tweepy.OAuthHandler(consumer_key, consumer_secret) \n",
    "auth.set_access_token(access_token, access_token_secret)\n",
    "api = tweepy.API(auth)\n",
    "try:\n",
    "    api.verify_credentials()\n",
    "    print('Successful Authentication!!')\n",
    "except:\n",
    "    print('Failed authentication, check the credentials again.')\n",
    "\n",
    "client = pymongo.MongoClient(MONGO_HOST)\n",
    "db = client.twitter_db\n",
    "collection = db.my_collection"
   ]
  },
  {
   "cell_type": "code",
   "execution_count": 3,
   "metadata": {},
   "outputs": [
    {
     "name": "stdout",
     "output_type": "stream",
     "text": [
      "Please enter keyword or hashtag to search: abortion\n",
      "Please enter how many tweets to analyze: 1000\n"
     ]
    }
   ],
   "source": [
    "#input parameters\n",
    "\n",
    "hashtag = input('Please enter keyword or hashtag to search: ')\n",
    "num = int(input ('Please enter how many tweets to analyze: '))"
   ]
  },
  {
   "cell_type": "code",
   "execution_count": 3,
   "metadata": {},
   "outputs": [
    {
     "name": "stderr",
     "output_type": "stream",
     "text": [
      "Unexpected parameter: id\n",
      "Unexpected parameter: lang\n",
      "<ipython-input-3-59c99cc46ffc>:15: DeprecationWarning: insert is deprecated. Use insert_one or insert_many instead.\n",
      "  collection.insert(data)\n",
      "Unexpected parameter: id\n",
      "Unexpected parameter: lang\n",
      "Unexpected parameter: id\n",
      "Unexpected parameter: lang\n",
      "Unexpected parameter: id\n",
      "Unexpected parameter: lang\n",
      "Unexpected parameter: id\n",
      "Unexpected parameter: lang\n",
      "Unexpected parameter: id\n",
      "Unexpected parameter: lang\n",
      "Unexpected parameter: id\n",
      "Unexpected parameter: lang\n",
      "Unexpected parameter: id\n",
      "Unexpected parameter: lang\n",
      "Unexpected parameter: id\n",
      "Unexpected parameter: lang\n",
      "Unexpected parameter: id\n",
      "Unexpected parameter: lang\n",
      "Unexpected parameter: id\n",
      "Unexpected parameter: lang\n",
      "Unexpected parameter: id\n",
      "Unexpected parameter: lang\n",
      "Unexpected parameter: id\n",
      "Unexpected parameter: lang\n",
      "Unexpected parameter: id\n",
      "Unexpected parameter: lang\n",
      "Unexpected parameter: id\n",
      "Unexpected parameter: lang\n",
      "Unexpected parameter: id\n",
      "Unexpected parameter: lang\n",
      "Unexpected parameter: id\n",
      "Unexpected parameter: lang\n",
      "Unexpected parameter: id\n",
      "Unexpected parameter: lang\n",
      "Unexpected parameter: id\n",
      "Unexpected parameter: lang\n",
      "Unexpected parameter: id\n",
      "Unexpected parameter: lang\n"
     ]
    }
   ],
   "source": [
    "# neg, pos, neutral, polarity=0\n",
    "\n",
    "\n",
    "tweets = tweepy.Cursor(api.user_timeline, id=\"@JoeBiden\",tweet_mode=\"extended\", lang=\"en\").items(400)    \n",
    "for tweet in tweets:\n",
    "    status = api.get_status(tweet.id)\n",
    "    data={}\n",
    "    data['id']= tweet.id\n",
    "    data['created']=status.created_at\n",
    "    data['geo']= tweet.geo\n",
    "    data['text']=status.text\n",
    "    data['likes']= status.favorite_count\n",
    "    data['retweet']= status.retweet_count\n",
    "    data['location'] = tweet.user.location\n",
    "    collection.insert(data)\n",
    "    \n",
    "#     new_row = {'ID':tweet.id, 'Text':status.text, 'No. of likes':status.favorite_count, \"Retweet count\":status.retweet_count,'Date n time':status.created_at}\n",
    "#     tweet_df = tweet_df.append(new_row,ignore_index=True)"
   ]
  },
  {
   "cell_type": "code",
   "execution_count": 4,
   "metadata": {},
   "outputs": [],
   "source": [
    "tweets=[]\n",
    "for c in collection.find():\n",
    "    tweets.append(c)\n",
    "\n",
    "tweet_df= pd.DataFrame(tweets)\n",
    "    "
   ]
  },
  {
   "cell_type": "code",
   "execution_count": 5,
   "metadata": {},
   "outputs": [
    {
     "data": {
      "text/html": [
       "<div>\n",
       "<style scoped>\n",
       "    .dataframe tbody tr th:only-of-type {\n",
       "        vertical-align: middle;\n",
       "    }\n",
       "\n",
       "    .dataframe tbody tr th {\n",
       "        vertical-align: top;\n",
       "    }\n",
       "\n",
       "    .dataframe thead th {\n",
       "        text-align: right;\n",
       "    }\n",
       "</style>\n",
       "<table border=\"1\" class=\"dataframe\">\n",
       "  <thead>\n",
       "    <tr style=\"text-align: right;\">\n",
       "      <th></th>\n",
       "      <th>_id</th>\n",
       "      <th>id</th>\n",
       "      <th>created</th>\n",
       "      <th>geo</th>\n",
       "      <th>text</th>\n",
       "      <th>likes</th>\n",
       "      <th>retweet</th>\n",
       "      <th>location</th>\n",
       "    </tr>\n",
       "  </thead>\n",
       "  <tbody>\n",
       "    <tr>\n",
       "      <th>0</th>\n",
       "      <td>62bde125953b13f253f58303</td>\n",
       "      <td>1542537210989355010</td>\n",
       "      <td>2022-06-30 15:55:04</td>\n",
       "      <td>None</td>\n",
       "      <td>We have to codify Roe vs. Wade into law. \\n\\nI...</td>\n",
       "      <td>27866</td>\n",
       "      <td>3914</td>\n",
       "      <td>Washington, DC</td>\n",
       "    </tr>\n",
       "    <tr>\n",
       "      <th>1</th>\n",
       "      <td>62bde125953b13f253f58304</td>\n",
       "      <td>1542275218407936006</td>\n",
       "      <td>2022-06-29 22:34:00</td>\n",
       "      <td>None</td>\n",
       "      <td>COVID-19 vaccinations are available for childr...</td>\n",
       "      <td>8132</td>\n",
       "      <td>1217</td>\n",
       "      <td>Washington, DC</td>\n",
       "    </tr>\n",
       "    <tr>\n",
       "      <th>2</th>\n",
       "      <td>62bde125953b13f253f58305</td>\n",
       "      <td>1542175058927435777</td>\n",
       "      <td>2022-06-29 15:56:00</td>\n",
       "      <td>None</td>\n",
       "      <td>My message to all LGBTQ+ youth: \\n\\nBe you. \\n...</td>\n",
       "      <td>127924</td>\n",
       "      <td>14545</td>\n",
       "      <td>Washington, DC</td>\n",
       "    </tr>\n",
       "    <tr>\n",
       "      <th>3</th>\n",
       "      <td>62bde126953b13f253f58306</td>\n",
       "      <td>1541895969867980800</td>\n",
       "      <td>2022-06-28 21:27:00</td>\n",
       "      <td>None</td>\n",
       "      <td>RT @POTUS: Yesterday's loss of life in San Ant...</td>\n",
       "      <td>0</td>\n",
       "      <td>2654</td>\n",
       "      <td>Washington, DC</td>\n",
       "    </tr>\n",
       "    <tr>\n",
       "      <th>4</th>\n",
       "      <td>62bde126953b13f253f58307</td>\n",
       "      <td>1541076888495394817</td>\n",
       "      <td>2022-06-26 15:12:16</td>\n",
       "      <td>None</td>\n",
       "      <td>This is an extreme and dangerous path the Cour...</td>\n",
       "      <td>15335</td>\n",
       "      <td>2580</td>\n",
       "      <td>Washington, DC</td>\n",
       "    </tr>\n",
       "    <tr>\n",
       "      <th>...</th>\n",
       "      <td>...</td>\n",
       "      <td>...</td>\n",
       "      <td>...</td>\n",
       "      <td>...</td>\n",
       "      <td>...</td>\n",
       "      <td>...</td>\n",
       "      <td>...</td>\n",
       "      <td>...</td>\n",
       "    </tr>\n",
       "    <tr>\n",
       "      <th>1295</th>\n",
       "      <td>62bf2cdf12c8f0c5c94ddf65</td>\n",
       "      <td>1484262714130288648</td>\n",
       "      <td>2022-01-20 20:33:01</td>\n",
       "      <td>None</td>\n",
       "      <td>One year ago, we started to write an American ...</td>\n",
       "      <td>12909</td>\n",
       "      <td>2395</td>\n",
       "      <td>Washington, DC</td>\n",
       "    </tr>\n",
       "    <tr>\n",
       "      <th>1296</th>\n",
       "      <td>62bf2cdf12c8f0c5c94ddf66</td>\n",
       "      <td>1484215137284333573</td>\n",
       "      <td>2022-01-20 17:23:58</td>\n",
       "      <td>None</td>\n",
       "      <td>I've never been more optimistic about America'...</td>\n",
       "      <td>5837</td>\n",
       "      <td>1108</td>\n",
       "      <td>Washington, DC</td>\n",
       "    </tr>\n",
       "    <tr>\n",
       "      <th>1297</th>\n",
       "      <td>62bf2cdf12c8f0c5c94ddf67</td>\n",
       "      <td>1484210869928144901</td>\n",
       "      <td>2022-01-20 17:07:01</td>\n",
       "      <td>None</td>\n",
       "      <td>RT @POTUS: 210 million Americans fully vaccina...</td>\n",
       "      <td>0</td>\n",
       "      <td>6204</td>\n",
       "      <td>Washington, DC</td>\n",
       "    </tr>\n",
       "    <tr>\n",
       "      <th>1298</th>\n",
       "      <td>62bf2ce012c8f0c5c94ddf68</td>\n",
       "      <td>1484198537306984451</td>\n",
       "      <td>2022-01-20 16:18:01</td>\n",
       "      <td>None</td>\n",
       "      <td>Our first year was the greatest year of job gr...</td>\n",
       "      <td>19023</td>\n",
       "      <td>2845</td>\n",
       "      <td>Washington, DC</td>\n",
       "    </tr>\n",
       "    <tr>\n",
       "      <th>1299</th>\n",
       "      <td>62bf2ce012c8f0c5c94ddf69</td>\n",
       "      <td>1484173968051425281</td>\n",
       "      <td>2022-01-20 14:40:23</td>\n",
       "      <td>None</td>\n",
       "      <td>January 20, 2021 was a day of renewal and reso...</td>\n",
       "      <td>8912</td>\n",
       "      <td>1325</td>\n",
       "      <td>Washington, DC</td>\n",
       "    </tr>\n",
       "  </tbody>\n",
       "</table>\n",
       "<p>1300 rows × 8 columns</p>\n",
       "</div>"
      ],
      "text/plain": [
       "                           _id                   id             created   geo  \\\n",
       "0     62bde125953b13f253f58303  1542537210989355010 2022-06-30 15:55:04  None   \n",
       "1     62bde125953b13f253f58304  1542275218407936006 2022-06-29 22:34:00  None   \n",
       "2     62bde125953b13f253f58305  1542175058927435777 2022-06-29 15:56:00  None   \n",
       "3     62bde126953b13f253f58306  1541895969867980800 2022-06-28 21:27:00  None   \n",
       "4     62bde126953b13f253f58307  1541076888495394817 2022-06-26 15:12:16  None   \n",
       "...                        ...                  ...                 ...   ...   \n",
       "1295  62bf2cdf12c8f0c5c94ddf65  1484262714130288648 2022-01-20 20:33:01  None   \n",
       "1296  62bf2cdf12c8f0c5c94ddf66  1484215137284333573 2022-01-20 17:23:58  None   \n",
       "1297  62bf2cdf12c8f0c5c94ddf67  1484210869928144901 2022-01-20 17:07:01  None   \n",
       "1298  62bf2ce012c8f0c5c94ddf68  1484198537306984451 2022-01-20 16:18:01  None   \n",
       "1299  62bf2ce012c8f0c5c94ddf69  1484173968051425281 2022-01-20 14:40:23  None   \n",
       "\n",
       "                                                   text   likes  retweet  \\\n",
       "0     We have to codify Roe vs. Wade into law. \\n\\nI...   27866     3914   \n",
       "1     COVID-19 vaccinations are available for childr...    8132     1217   \n",
       "2     My message to all LGBTQ+ youth: \\n\\nBe you. \\n...  127924    14545   \n",
       "3     RT @POTUS: Yesterday's loss of life in San Ant...       0     2654   \n",
       "4     This is an extreme and dangerous path the Cour...   15335     2580   \n",
       "...                                                 ...     ...      ...   \n",
       "1295  One year ago, we started to write an American ...   12909     2395   \n",
       "1296  I've never been more optimistic about America'...    5837     1108   \n",
       "1297  RT @POTUS: 210 million Americans fully vaccina...       0     6204   \n",
       "1298  Our first year was the greatest year of job gr...   19023     2845   \n",
       "1299  January 20, 2021 was a day of renewal and reso...    8912     1325   \n",
       "\n",
       "            location  \n",
       "0     Washington, DC  \n",
       "1     Washington, DC  \n",
       "2     Washington, DC  \n",
       "3     Washington, DC  \n",
       "4     Washington, DC  \n",
       "...              ...  \n",
       "1295  Washington, DC  \n",
       "1296  Washington, DC  \n",
       "1297  Washington, DC  \n",
       "1298  Washington, DC  \n",
       "1299  Washington, DC  \n",
       "\n",
       "[1300 rows x 8 columns]"
      ]
     },
     "execution_count": 5,
     "metadata": {},
     "output_type": "execute_result"
    }
   ],
   "source": [
    "tweet_df"
   ]
  },
  {
   "cell_type": "code",
   "execution_count": 6,
   "metadata": {},
   "outputs": [
    {
     "name": "stderr",
     "output_type": "stream",
     "text": [
      "[nltk_data] Downloading package stopwords to\n",
      "[nltk_data]     /Users/abhinayaganesh/nltk_data...\n",
      "[nltk_data]   Package stopwords is already up-to-date!\n"
     ]
    }
   ],
   "source": [
    "nltk.download('stopwords')\n",
    "rt = lambda x: re.sub(\"(@[A-Za-z0-9]+)|([^0-9A-Za-z \\t])|(\\w+:\\/\\/\\S+)|@\",\" \",x)\n",
    "remove_sp=lambda x:re.sub(' +', ' ', x)\n",
    "\n",
    "tweet_df[\"Clean_text\"] = tweet_df['text'].map(rt).map(remove_sp)\n",
    "tweet_df[\"Clean_text\"] = tweet_df['Clean_text'].str.lower()\n",
    "tweet_df['Clean_text']= tweet_df['Clean_text'].apply(lambda x: x.strip())\n",
    "\n",
    "tweet_df['Date']=tweet_df['created'].apply(lambda x: x.date())\n"
   ]
  },
  {
   "cell_type": "code",
   "execution_count": 8,
   "metadata": {},
   "outputs": [
    {
     "name": "stderr",
     "output_type": "stream",
     "text": [
      "[nltk_data] Downloading package stopwords to\n",
      "[nltk_data]     /Users/abhinayaganesh/nltk_data...\n",
      "[nltk_data]   Package stopwords is already up-to-date!\n"
     ]
    }
   ],
   "source": [
    "nltk.download('stopwords')\n",
    "def clean_tweets(tweet):\n",
    "    a= ''.join(re.sub(\"(@[A-Za-z0-9]+)|([^0-9A-Za-z \\t])|(\\w+:\\/\\/\\S+)|@\", \" \", str(tweet).lower()).strip())\n",
    "    return re.sub(' +', ' ', a)\n",
    "\n",
    "tweet_df[\"Clean_text\"] = tweet_df[\"text\"].map(clean_tweets)\n",
    "tweet_df[\"Date\"]=tweet_df[\"created\"].apply(lambda x: x.date())"
   ]
  },
  {
   "cell_type": "code",
   "execution_count": 12,
   "metadata": {},
   "outputs": [
    {
     "data": {
      "text/html": [
       "<div>\n",
       "<style scoped>\n",
       "    .dataframe tbody tr th:only-of-type {\n",
       "        vertical-align: middle;\n",
       "    }\n",
       "\n",
       "    .dataframe tbody tr th {\n",
       "        vertical-align: top;\n",
       "    }\n",
       "\n",
       "    .dataframe thead th {\n",
       "        text-align: right;\n",
       "    }\n",
       "</style>\n",
       "<table border=\"1\" class=\"dataframe\">\n",
       "  <thead>\n",
       "    <tr style=\"text-align: right;\">\n",
       "      <th></th>\n",
       "      <th>_id</th>\n",
       "      <th>id</th>\n",
       "      <th>created</th>\n",
       "      <th>geo</th>\n",
       "      <th>text</th>\n",
       "      <th>likes</th>\n",
       "      <th>retweet</th>\n",
       "      <th>location</th>\n",
       "      <th>Clean_text</th>\n",
       "      <th>Date</th>\n",
       "      <th>polarity</th>\n",
       "      <th>subjectivity</th>\n",
       "      <th>Sentiment</th>\n",
       "    </tr>\n",
       "  </thead>\n",
       "  <tbody>\n",
       "    <tr>\n",
       "      <th>0</th>\n",
       "      <td>62bde125953b13f253f58303</td>\n",
       "      <td>1542537210989355010</td>\n",
       "      <td>2022-06-30 15:55:04</td>\n",
       "      <td>None</td>\n",
       "      <td>We have to codify Roe vs. Wade into law. \\n\\nI...</td>\n",
       "      <td>27866</td>\n",
       "      <td>3914</td>\n",
       "      <td>Washington, DC</td>\n",
       "      <td>we have to codify roe vs wade into law if the ...</td>\n",
       "      <td>2022-06-30</td>\n",
       "      <td>0.000000</td>\n",
       "      <td>0.000000</td>\n",
       "      <td>Neutral</td>\n",
       "    </tr>\n",
       "    <tr>\n",
       "      <th>1</th>\n",
       "      <td>62bde125953b13f253f58304</td>\n",
       "      <td>1542275218407936006</td>\n",
       "      <td>2022-06-29 22:34:00</td>\n",
       "      <td>None</td>\n",
       "      <td>COVID-19 vaccinations are available for childr...</td>\n",
       "      <td>8132</td>\n",
       "      <td>1217</td>\n",
       "      <td>Washington, DC</td>\n",
       "      <td>covid 19 vaccinations are available for childr...</td>\n",
       "      <td>2022-06-29</td>\n",
       "      <td>0.466667</td>\n",
       "      <td>0.466667</td>\n",
       "      <td>Positive</td>\n",
       "    </tr>\n",
       "    <tr>\n",
       "      <th>2</th>\n",
       "      <td>62bde125953b13f253f58305</td>\n",
       "      <td>1542175058927435777</td>\n",
       "      <td>2022-06-29 15:56:00</td>\n",
       "      <td>None</td>\n",
       "      <td>My message to all LGBTQ+ youth: \\n\\nBe you. \\n...</td>\n",
       "      <td>127924</td>\n",
       "      <td>14545</td>\n",
       "      <td>Washington, DC</td>\n",
       "      <td>my message to all lgbtq youth be you you are l...</td>\n",
       "      <td>2022-06-29</td>\n",
       "      <td>0.350000</td>\n",
       "      <td>0.400000</td>\n",
       "      <td>Positive</td>\n",
       "    </tr>\n",
       "    <tr>\n",
       "      <th>3</th>\n",
       "      <td>62bde126953b13f253f58306</td>\n",
       "      <td>1541895969867980800</td>\n",
       "      <td>2022-06-28 21:27:00</td>\n",
       "      <td>None</td>\n",
       "      <td>RT @POTUS: Yesterday's loss of life in San Ant...</td>\n",
       "      <td>0</td>\n",
       "      <td>2654</td>\n",
       "      <td>Washington, DC</td>\n",
       "      <td>rt yesterday s loss of life in san antonio is ...</td>\n",
       "      <td>2022-06-28</td>\n",
       "      <td>-0.100000</td>\n",
       "      <td>0.900000</td>\n",
       "      <td>Negative</td>\n",
       "    </tr>\n",
       "    <tr>\n",
       "      <th>4</th>\n",
       "      <td>62bde126953b13f253f58307</td>\n",
       "      <td>1541076888495394817</td>\n",
       "      <td>2022-06-26 15:12:16</td>\n",
       "      <td>None</td>\n",
       "      <td>This is an extreme and dangerous path the Cour...</td>\n",
       "      <td>15335</td>\n",
       "      <td>2580</td>\n",
       "      <td>Washington, DC</td>\n",
       "      <td>this is an extreme and dangerous path the cour...</td>\n",
       "      <td>2022-06-26</td>\n",
       "      <td>-0.362500</td>\n",
       "      <td>0.950000</td>\n",
       "      <td>Negative</td>\n",
       "    </tr>\n",
       "    <tr>\n",
       "      <th>...</th>\n",
       "      <td>...</td>\n",
       "      <td>...</td>\n",
       "      <td>...</td>\n",
       "      <td>...</td>\n",
       "      <td>...</td>\n",
       "      <td>...</td>\n",
       "      <td>...</td>\n",
       "      <td>...</td>\n",
       "      <td>...</td>\n",
       "      <td>...</td>\n",
       "      <td>...</td>\n",
       "      <td>...</td>\n",
       "      <td>...</td>\n",
       "    </tr>\n",
       "    <tr>\n",
       "      <th>1295</th>\n",
       "      <td>62bf2cdf12c8f0c5c94ddf65</td>\n",
       "      <td>1484262714130288648</td>\n",
       "      <td>2022-01-20 20:33:01</td>\n",
       "      <td>None</td>\n",
       "      <td>One year ago, we started to write an American ...</td>\n",
       "      <td>12909</td>\n",
       "      <td>2395</td>\n",
       "      <td>Washington, DC</td>\n",
       "      <td>one year ago we started to write an american s...</td>\n",
       "      <td>2022-01-20</td>\n",
       "      <td>0.158333</td>\n",
       "      <td>0.366667</td>\n",
       "      <td>Neutral</td>\n",
       "    </tr>\n",
       "    <tr>\n",
       "      <th>1296</th>\n",
       "      <td>62bf2cdf12c8f0c5c94ddf66</td>\n",
       "      <td>1484215137284333573</td>\n",
       "      <td>2022-01-20 17:23:58</td>\n",
       "      <td>None</td>\n",
       "      <td>I've never been more optimistic about America'...</td>\n",
       "      <td>5837</td>\n",
       "      <td>1108</td>\n",
       "      <td>Washington, DC</td>\n",
       "      <td>i ve never been more optimistic about america ...</td>\n",
       "      <td>2022-01-20</td>\n",
       "      <td>0.250000</td>\n",
       "      <td>0.312500</td>\n",
       "      <td>Neutral</td>\n",
       "    </tr>\n",
       "    <tr>\n",
       "      <th>1297</th>\n",
       "      <td>62bf2cdf12c8f0c5c94ddf67</td>\n",
       "      <td>1484210869928144901</td>\n",
       "      <td>2022-01-20 17:07:01</td>\n",
       "      <td>None</td>\n",
       "      <td>RT @POTUS: 210 million Americans fully vaccina...</td>\n",
       "      <td>0</td>\n",
       "      <td>6204</td>\n",
       "      <td>Washington, DC</td>\n",
       "      <td>rt 210 million americans fully vaccinated 96 o...</td>\n",
       "      <td>2022-01-20</td>\n",
       "      <td>0.000000</td>\n",
       "      <td>0.500000</td>\n",
       "      <td>Neutral</td>\n",
       "    </tr>\n",
       "    <tr>\n",
       "      <th>1298</th>\n",
       "      <td>62bf2ce012c8f0c5c94ddf68</td>\n",
       "      <td>1484198537306984451</td>\n",
       "      <td>2022-01-20 16:18:01</td>\n",
       "      <td>None</td>\n",
       "      <td>Our first year was the greatest year of job gr...</td>\n",
       "      <td>19023</td>\n",
       "      <td>2845</td>\n",
       "      <td>Washington, DC</td>\n",
       "      <td>our first year was the greatest year of job gr...</td>\n",
       "      <td>2022-01-20</td>\n",
       "      <td>0.362500</td>\n",
       "      <td>0.408333</td>\n",
       "      <td>Positive</td>\n",
       "    </tr>\n",
       "    <tr>\n",
       "      <th>1299</th>\n",
       "      <td>62bf2ce012c8f0c5c94ddf69</td>\n",
       "      <td>1484173968051425281</td>\n",
       "      <td>2022-01-20 14:40:23</td>\n",
       "      <td>None</td>\n",
       "      <td>January 20, 2021 was a day of renewal and reso...</td>\n",
       "      <td>8912</td>\n",
       "      <td>1325</td>\n",
       "      <td>Washington, DC</td>\n",
       "      <td>january 20 2021 was a day of renewal and resol...</td>\n",
       "      <td>2022-01-20</td>\n",
       "      <td>0.000000</td>\n",
       "      <td>0.000000</td>\n",
       "      <td>Neutral</td>\n",
       "    </tr>\n",
       "  </tbody>\n",
       "</table>\n",
       "<p>1300 rows × 13 columns</p>\n",
       "</div>"
      ],
      "text/plain": [
       "                           _id                   id             created   geo  \\\n",
       "0     62bde125953b13f253f58303  1542537210989355010 2022-06-30 15:55:04  None   \n",
       "1     62bde125953b13f253f58304  1542275218407936006 2022-06-29 22:34:00  None   \n",
       "2     62bde125953b13f253f58305  1542175058927435777 2022-06-29 15:56:00  None   \n",
       "3     62bde126953b13f253f58306  1541895969867980800 2022-06-28 21:27:00  None   \n",
       "4     62bde126953b13f253f58307  1541076888495394817 2022-06-26 15:12:16  None   \n",
       "...                        ...                  ...                 ...   ...   \n",
       "1295  62bf2cdf12c8f0c5c94ddf65  1484262714130288648 2022-01-20 20:33:01  None   \n",
       "1296  62bf2cdf12c8f0c5c94ddf66  1484215137284333573 2022-01-20 17:23:58  None   \n",
       "1297  62bf2cdf12c8f0c5c94ddf67  1484210869928144901 2022-01-20 17:07:01  None   \n",
       "1298  62bf2ce012c8f0c5c94ddf68  1484198537306984451 2022-01-20 16:18:01  None   \n",
       "1299  62bf2ce012c8f0c5c94ddf69  1484173968051425281 2022-01-20 14:40:23  None   \n",
       "\n",
       "                                                   text   likes  retweet  \\\n",
       "0     We have to codify Roe vs. Wade into law. \\n\\nI...   27866     3914   \n",
       "1     COVID-19 vaccinations are available for childr...    8132     1217   \n",
       "2     My message to all LGBTQ+ youth: \\n\\nBe you. \\n...  127924    14545   \n",
       "3     RT @POTUS: Yesterday's loss of life in San Ant...       0     2654   \n",
       "4     This is an extreme and dangerous path the Cour...   15335     2580   \n",
       "...                                                 ...     ...      ...   \n",
       "1295  One year ago, we started to write an American ...   12909     2395   \n",
       "1296  I've never been more optimistic about America'...    5837     1108   \n",
       "1297  RT @POTUS: 210 million Americans fully vaccina...       0     6204   \n",
       "1298  Our first year was the greatest year of job gr...   19023     2845   \n",
       "1299  January 20, 2021 was a day of renewal and reso...    8912     1325   \n",
       "\n",
       "            location                                         Clean_text  \\\n",
       "0     Washington, DC  we have to codify roe vs wade into law if the ...   \n",
       "1     Washington, DC  covid 19 vaccinations are available for childr...   \n",
       "2     Washington, DC  my message to all lgbtq youth be you you are l...   \n",
       "3     Washington, DC  rt yesterday s loss of life in san antonio is ...   \n",
       "4     Washington, DC  this is an extreme and dangerous path the cour...   \n",
       "...              ...                                                ...   \n",
       "1295  Washington, DC  one year ago we started to write an american s...   \n",
       "1296  Washington, DC  i ve never been more optimistic about america ...   \n",
       "1297  Washington, DC  rt 210 million americans fully vaccinated 96 o...   \n",
       "1298  Washington, DC  our first year was the greatest year of job gr...   \n",
       "1299  Washington, DC  january 20 2021 was a day of renewal and resol...   \n",
       "\n",
       "            Date  polarity  subjectivity Sentiment  \n",
       "0     2022-06-30  0.000000      0.000000   Neutral  \n",
       "1     2022-06-29  0.466667      0.466667  Positive  \n",
       "2     2022-06-29  0.350000      0.400000  Positive  \n",
       "3     2022-06-28 -0.100000      0.900000  Negative  \n",
       "4     2022-06-26 -0.362500      0.950000  Negative  \n",
       "...          ...       ...           ...       ...  \n",
       "1295  2022-01-20  0.158333      0.366667   Neutral  \n",
       "1296  2022-01-20  0.250000      0.312500   Neutral  \n",
       "1297  2022-01-20  0.000000      0.500000   Neutral  \n",
       "1298  2022-01-20  0.362500      0.408333  Positive  \n",
       "1299  2022-01-20  0.000000      0.000000   Neutral  \n",
       "\n",
       "[1300 rows x 13 columns]"
      ]
     },
     "execution_count": 12,
     "metadata": {},
     "output_type": "execute_result"
    }
   ],
   "source": [
    "tweet_df"
   ]
  },
  {
   "cell_type": "code",
   "execution_count": 11,
   "metadata": {},
   "outputs": [],
   "source": [
    "# tokens =tweet_df['Tokens']\n",
    "# plt.figure(figsize = (20,20))\n",
    "# wc = WordCloud(max_words = 1000 , width = 1600 , height = 800,\n",
    "#                collocations=False).generate(\" \".join(tokens))\n",
    "# plt.imshow(wc)"
   ]
  },
  {
   "cell_type": "code",
   "execution_count": 8,
   "metadata": {},
   "outputs": [
    {
     "data": {
      "image/png": "[encoded data removed]",
      "text/plain": [
       "<Figure size 432x288 with 1 Axes>"
      ]
     },
     "metadata": {
      "needs_background": "light"
     },
     "output_type": "display_data"
    }
   ],
   "source": [
    "tweet_df[['polarity', 'subjectivity']] = tweet_df['Clean_text'].apply(lambda Text: pd.Series(TextBlob(Text).sentiment))\n",
    "plt.xlim(-1,1)\n",
    "plt.hist(tweet_df['polarity'],bins=10)\n",
    "plt.show()"
   ]
  },
  {
   "cell_type": "code",
   "execution_count": 9,
   "metadata": {},
   "outputs": [],
   "source": [
    "filters = [(tweet_df.polarity <0),\n",
    "         (tweet_df.polarity >=0)&(tweet_df.polarity<=0.25),\n",
    "         (tweet_df.polarity >0.25)]\n",
    "value=['Negative',\"Neutral\",\"Positive\"]\n",
    "tweet_df['Sentiment']=np.select(filters,value)"
   ]
  },
  {
   "cell_type": "code",
   "execution_count": 10,
   "metadata": {},
   "outputs": [
    {
     "data": {
      "text/plain": [
       "0        Neutral\n",
       "1       Positive\n",
       "2       Positive\n",
       "3       Negative\n",
       "4       Negative\n",
       "          ...   \n",
       "1295     Neutral\n",
       "1296     Neutral\n",
       "1297     Neutral\n",
       "1298    Positive\n",
       "1299     Neutral\n",
       "Name: Sentiment, Length: 1300, dtype: object"
      ]
     },
     "execution_count": 10,
     "metadata": {},
     "output_type": "execute_result"
    }
   ],
   "source": [
    "tweet_df['Sentiment']"
   ]
  },
  {
   "cell_type": "code",
   "execution_count": 20,
   "metadata": {},
   "outputs": [],
   "source": [
    "# COUNT NUMBER OF POSITIVE, NEGATIVE AND NEUTRAL TWEETS\n",
    "\n",
    "neu_list = []\n",
    "neg_list = []\n",
    "pos_list = []\n",
    "neu=0\n",
    "pos=0\n",
    "neg= 0\n",
    "for i in range(len(tweet_df['Sentiment'])):\n",
    "    if (tweet_df['Sentiment'][i]=='Neutral'):\n",
    "        neu=neu+1\n",
    "    elif (tweet_df['Sentiment'][i]=='Positive'):\n",
    "        pos=pos+1\n",
    "    else:\n",
    "        neg=neg+1\n",
    "def percent(a,total):\n",
    "    b=100 * float(a)/float(total)\n",
    "    return format(b,'.1f')"
   ]
  },
  {
   "cell_type": "code",
   "execution_count": 21,
   "metadata": {},
   "outputs": [],
   "source": [
    "positive = percent(pos, 1300)\n",
    "negative = percent(neg, 1300)\n",
    "neutral = percent(neu, 1300)"
   ]
  },
  {
   "cell_type": "code",
   "execution_count": 22,
   "metadata": {},
   "outputs": [
    {
     "data": {
      "text/plain": [
       "'13.2'"
      ]
     },
     "execution_count": 22,
     "metadata": {},
     "output_type": "execute_result"
    }
   ],
   "source": [
    "negative"
   ]
  },
  {
   "cell_type": "code",
   "execution_count": 29,
   "metadata": {},
   "outputs": [
    {
     "data": {
      "image/png": "[encoded data removed]",
      "text/plain": [
       "<Figure size 640x480 with 1 Axes>"
      ]
     },
     "metadata": {},
     "output_type": "display_data"
    }
   ],
   "source": [
    "# PIE CHART FOR TWEETS\n",
    "\n",
    "labels = ['Positive ['+str(positive)+'%]' , 'Neutral ['+str(neutral)+'%]','Negative ['+str(negative)+'%]']\n",
    "sizes = [positive, neutral, negative]\n",
    "colors = ['blue', 'lightgreen','red']\n",
    "patches, texts = plt.pie(sizes,colors=colors, startangle=90)\n",
    "plt.style.use('default')\n",
    "plt.legend(labels)\n",
    "plt.title('Sentiment Analysis Result')\n",
    "plt.axis('equal')\n",
    "plt.show()"
   ]
  },
  {
   "cell_type": "code",
   "execution_count": 34,
   "metadata": {},
   "outputs": [],
   "source": [
    "# TWEETS WITH HASHTAG\n",
    "\n",
    "tweet_lst=[]\n",
    "geoc=\"38.9072,-77.0369,10mi\"\n",
    "for tweet in tweepy.Cursor(api.search_tweets,geocode=geoc, q=\"abortion\").items(500):\n",
    "    tweetDate = tweet.created_at.date()\n",
    "    if(tweet.coordinates !=None):\n",
    "        tweet_lst.append([tweetDate,tweet.id,tweet.coordinates['coordinates'][0],tweet.coordinates['coordinates'][1],tweet.user.screen_name,tweet.user.name, tweet.text,tweet.user._json[\"geo_enabled\"]])\n",
    "\n",
    "tweet_dfs = pd.DataFrame(tweet_lst, columns=['tweet_dt', 'id', 'lat','long','username', 'name', 'tweet','geo'])"
   ]
  },
  {
   "cell_type": "code",
   "execution_count": 35,
   "metadata": {},
   "outputs": [
    {
     "data": {
      "text/html": [
       "<div>\n",
       "<style scoped>\n",
       "    .dataframe tbody tr th:only-of-type {\n",
       "        vertical-align: middle;\n",
       "    }\n",
       "\n",
       "    .dataframe tbody tr th {\n",
       "        vertical-align: top;\n",
       "    }\n",
       "\n",
       "    .dataframe thead th {\n",
       "        text-align: right;\n",
       "    }\n",
       "</style>\n",
       "<table border=\"1\" class=\"dataframe\">\n",
       "  <thead>\n",
       "    <tr style=\"text-align: right;\">\n",
       "      <th></th>\n",
       "      <th>tweet_dt</th>\n",
       "      <th>id</th>\n",
       "      <th>lat</th>\n",
       "      <th>long</th>\n",
       "      <th>username</th>\n",
       "      <th>name</th>\n",
       "      <th>tweet</th>\n",
       "      <th>geo</th>\n",
       "    </tr>\n",
       "  </thead>\n",
       "  <tbody>\n",
       "  </tbody>\n",
       "</table>\n",
       "</div>"
      ],
      "text/plain": [
       "Empty DataFrame\n",
       "Columns: [tweet_dt, id, lat, long, username, name, tweet, geo]\n",
       "Index: []"
      ]
     },
     "execution_count": 35,
     "metadata": {},
     "output_type": "execute_result"
    }
   ],
   "source": [
    "tweet_dfs"
   ]
  },
  {
   "cell_type": "code",
   "execution_count": 23,
   "metadata": {},
   "outputs": [
    {
     "name": "stderr",
     "output_type": "stream",
     "text": [
      "/Users/abhinayaganesh/opt/anaconda3/lib/python3.8/site-packages/numpy/lib/histograms.py:823: RuntimeWarning: divide by zero encountered in double_scalars\n",
      "  norm = n_equal_bins / _unsigned_subtract(last_edge, first_edge)\n",
      "/Users/abhinayaganesh/opt/anaconda3/lib/python3.8/site-packages/numpy/lib/histograms.py:851: RuntimeWarning: invalid value encountered in multiply\n",
      "  f_indices = _unsigned_subtract(tmp_a, first_edge) * norm\n"
     ]
    },
    {
     "ename": "IndexError",
     "evalue": "index -9223372036854775808 is out of bounds for axis 0 with size 11",
     "output_type": "error",
     "traceback": [
      "\u001b[0;31m---------------------------------------------------------------------------\u001b[0m",
      "\u001b[0;31mIndexError\u001b[0m                                Traceback (most recent call last)",
      "\u001b[0;32m<ipython-input-23-d9652f3e0d3b>\u001b[0m in \u001b[0;36m<module>\u001b[0;34m\u001b[0m\n\u001b[0;32m----> 1\u001b[0;31m \u001b[0mtweet_dfs\u001b[0m\u001b[0;34m[\u001b[0m\u001b[0;34m[\u001b[0m\u001b[0;34m'lat'\u001b[0m\u001b[0;34m,\u001b[0m\u001b[0;34m'long'\u001b[0m\u001b[0;34m,\u001b[0m\u001b[0;34m'id'\u001b[0m\u001b[0;34m]\u001b[0m\u001b[0;34m]\u001b[0m\u001b[0;34m.\u001b[0m\u001b[0mhist\u001b[0m\u001b[0;34m(\u001b[0m\u001b[0;34m)\u001b[0m\u001b[0;34m;\u001b[0m\u001b[0;34m\u001b[0m\u001b[0;34m\u001b[0m\u001b[0m\n\u001b[0m",
      "\u001b[0;32m~/opt/anaconda3/lib/python3.8/site-packages/pandas/plotting/_core.py\u001b[0m in \u001b[0;36mhist_frame\u001b[0;34m(data, column, by, grid, xlabelsize, xrot, ylabelsize, yrot, ax, sharex, sharey, figsize, layout, bins, backend, legend, **kwargs)\u001b[0m\n\u001b[1;32m    209\u001b[0m     \"\"\"\n\u001b[1;32m    210\u001b[0m     \u001b[0mplot_backend\u001b[0m \u001b[0;34m=\u001b[0m \u001b[0m_get_plot_backend\u001b[0m\u001b[0;34m(\u001b[0m\u001b[0mbackend\u001b[0m\u001b[0;34m)\u001b[0m\u001b[0;34m\u001b[0m\u001b[0;34m\u001b[0m\u001b[0m\n\u001b[0;32m--> 211\u001b[0;31m     return plot_backend.hist_frame(\n\u001b[0m\u001b[1;32m    212\u001b[0m         \u001b[0mdata\u001b[0m\u001b[0;34m,\u001b[0m\u001b[0;34m\u001b[0m\u001b[0;34m\u001b[0m\u001b[0m\n\u001b[1;32m    213\u001b[0m         \u001b[0mcolumn\u001b[0m\u001b[0;34m=\u001b[0m\u001b[0mcolumn\u001b[0m\u001b[0;34m,\u001b[0m\u001b[0;34m\u001b[0m\u001b[0;34m\u001b[0m\u001b[0m\n",
      "\u001b[0;32m~/opt/anaconda3/lib/python3.8/site-packages/pandas/plotting/_matplotlib/hist.py\u001b[0m in \u001b[0;36mhist_frame\u001b[0;34m(data, column, by, grid, xlabelsize, xrot, ylabelsize, yrot, ax, sharex, sharey, figsize, layout, bins, legend, **kwds)\u001b[0m\n\u001b[1;32m    432\u001b[0m         \u001b[0;32mif\u001b[0m \u001b[0mlegend\u001b[0m \u001b[0;32mand\u001b[0m \u001b[0mcan_set_label\u001b[0m\u001b[0;34m:\u001b[0m\u001b[0;34m\u001b[0m\u001b[0;34m\u001b[0m\u001b[0m\n\u001b[1;32m    433\u001b[0m             \u001b[0mkwds\u001b[0m\u001b[0;34m[\u001b[0m\u001b[0;34m\"label\"\u001b[0m\u001b[0;34m]\u001b[0m \u001b[0;34m=\u001b[0m \u001b[0mcol\u001b[0m\u001b[0;34m\u001b[0m\u001b[0;34m\u001b[0m\u001b[0m\n\u001b[0;32m--> 434\u001b[0;31m         \u001b[0max\u001b[0m\u001b[0;34m.\u001b[0m\u001b[0mhist\u001b[0m\u001b[0;34m(\u001b[0m\u001b[0mdata\u001b[0m\u001b[0;34m[\u001b[0m\u001b[0mcol\u001b[0m\u001b[0;34m]\u001b[0m\u001b[0;34m.\u001b[0m\u001b[0mdropna\u001b[0m\u001b[0;34m(\u001b[0m\u001b[0;34m)\u001b[0m\u001b[0;34m.\u001b[0m\u001b[0mvalues\u001b[0m\u001b[0;34m,\u001b[0m \u001b[0mbins\u001b[0m\u001b[0;34m=\u001b[0m\u001b[0mbins\u001b[0m\u001b[0;34m,\u001b[0m \u001b[0;34m**\u001b[0m\u001b[0mkwds\u001b[0m\u001b[0;34m)\u001b[0m\u001b[0;34m\u001b[0m\u001b[0;34m\u001b[0m\u001b[0m\n\u001b[0m\u001b[1;32m    435\u001b[0m         \u001b[0max\u001b[0m\u001b[0;34m.\u001b[0m\u001b[0mset_title\u001b[0m\u001b[0;34m(\u001b[0m\u001b[0mcol\u001b[0m\u001b[0;34m)\u001b[0m\u001b[0;34m\u001b[0m\u001b[0;34m\u001b[0m\u001b[0m\n\u001b[1;32m    436\u001b[0m         \u001b[0max\u001b[0m\u001b[0;34m.\u001b[0m\u001b[0mgrid\u001b[0m\u001b[0;34m(\u001b[0m\u001b[0mgrid\u001b[0m\u001b[0;34m)\u001b[0m\u001b[0;34m\u001b[0m\u001b[0;34m\u001b[0m\u001b[0m\n",
      "\u001b[0;32m~/opt/anaconda3/lib/python3.8/site-packages/matplotlib/__init__.py\u001b[0m in \u001b[0;36minner\u001b[0;34m(ax, data, *args, **kwargs)\u001b[0m\n\u001b[1;32m   1436\u001b[0m     \u001b[0;32mdef\u001b[0m \u001b[0minner\u001b[0m\u001b[0;34m(\u001b[0m\u001b[0max\u001b[0m\u001b[0;34m,\u001b[0m \u001b[0;34m*\u001b[0m\u001b[0margs\u001b[0m\u001b[0;34m,\u001b[0m \u001b[0mdata\u001b[0m\u001b[0;34m=\u001b[0m\u001b[0;32mNone\u001b[0m\u001b[0;34m,\u001b[0m \u001b[0;34m**\u001b[0m\u001b[0mkwargs\u001b[0m\u001b[0;34m)\u001b[0m\u001b[0;34m:\u001b[0m\u001b[0;34m\u001b[0m\u001b[0;34m\u001b[0m\u001b[0m\n\u001b[1;32m   1437\u001b[0m         \u001b[0;32mif\u001b[0m \u001b[0mdata\u001b[0m \u001b[0;32mis\u001b[0m \u001b[0;32mNone\u001b[0m\u001b[0;34m:\u001b[0m\u001b[0;34m\u001b[0m\u001b[0;34m\u001b[0m\u001b[0m\n\u001b[0;32m-> 1438\u001b[0;31m             \u001b[0;32mreturn\u001b[0m \u001b[0mfunc\u001b[0m\u001b[0;34m(\u001b[0m\u001b[0max\u001b[0m\u001b[0;34m,\u001b[0m \u001b[0;34m*\u001b[0m\u001b[0mmap\u001b[0m\u001b[0;34m(\u001b[0m\u001b[0msanitize_sequence\u001b[0m\u001b[0;34m,\u001b[0m \u001b[0margs\u001b[0m\u001b[0;34m)\u001b[0m\u001b[0;34m,\u001b[0m \u001b[0;34m**\u001b[0m\u001b[0mkwargs\u001b[0m\u001b[0;34m)\u001b[0m\u001b[0;34m\u001b[0m\u001b[0;34m\u001b[0m\u001b[0m\n\u001b[0m\u001b[1;32m   1439\u001b[0m \u001b[0;34m\u001b[0m\u001b[0m\n\u001b[1;32m   1440\u001b[0m         \u001b[0mbound\u001b[0m \u001b[0;34m=\u001b[0m \u001b[0mnew_sig\u001b[0m\u001b[0;34m.\u001b[0m\u001b[0mbind\u001b[0m\u001b[0;34m(\u001b[0m\u001b[0max\u001b[0m\u001b[0;34m,\u001b[0m \u001b[0;34m*\u001b[0m\u001b[0margs\u001b[0m\u001b[0;34m,\u001b[0m \u001b[0;34m**\u001b[0m\u001b[0mkwargs\u001b[0m\u001b[0;34m)\u001b[0m\u001b[0;34m\u001b[0m\u001b[0;34m\u001b[0m\u001b[0m\n",
      "\u001b[0;32m~/opt/anaconda3/lib/python3.8/site-packages/matplotlib/axes/_axes.py\u001b[0m in \u001b[0;36mhist\u001b[0;34m(self, x, bins, range, density, weights, cumulative, bottom, histtype, align, orientation, rwidth, log, color, label, stacked, **kwargs)\u001b[0m\n\u001b[1;32m   6654\u001b[0m             \u001b[0;31m# this will automatically overwrite bins,\u001b[0m\u001b[0;34m\u001b[0m\u001b[0;34m\u001b[0m\u001b[0;34m\u001b[0m\u001b[0m\n\u001b[1;32m   6655\u001b[0m             \u001b[0;31m# so that each histogram uses the same bins\u001b[0m\u001b[0;34m\u001b[0m\u001b[0;34m\u001b[0m\u001b[0;34m\u001b[0m\u001b[0m\n\u001b[0;32m-> 6656\u001b[0;31m             \u001b[0mm\u001b[0m\u001b[0;34m,\u001b[0m \u001b[0mbins\u001b[0m \u001b[0;34m=\u001b[0m \u001b[0mnp\u001b[0m\u001b[0;34m.\u001b[0m\u001b[0mhistogram\u001b[0m\u001b[0;34m(\u001b[0m\u001b[0mx\u001b[0m\u001b[0;34m[\u001b[0m\u001b[0mi\u001b[0m\u001b[0;34m]\u001b[0m\u001b[0;34m,\u001b[0m \u001b[0mbins\u001b[0m\u001b[0;34m,\u001b[0m \u001b[0mweights\u001b[0m\u001b[0;34m=\u001b[0m\u001b[0mw\u001b[0m\u001b[0;34m[\u001b[0m\u001b[0mi\u001b[0m\u001b[0;34m]\u001b[0m\u001b[0;34m,\u001b[0m \u001b[0;34m**\u001b[0m\u001b[0mhist_kwargs\u001b[0m\u001b[0;34m)\u001b[0m\u001b[0;34m\u001b[0m\u001b[0;34m\u001b[0m\u001b[0m\n\u001b[0m\u001b[1;32m   6657\u001b[0m             \u001b[0mtops\u001b[0m\u001b[0;34m.\u001b[0m\u001b[0mappend\u001b[0m\u001b[0;34m(\u001b[0m\u001b[0mm\u001b[0m\u001b[0;34m)\u001b[0m\u001b[0;34m\u001b[0m\u001b[0;34m\u001b[0m\u001b[0m\n\u001b[1;32m   6658\u001b[0m         \u001b[0mtops\u001b[0m \u001b[0;34m=\u001b[0m \u001b[0mnp\u001b[0m\u001b[0;34m.\u001b[0m\u001b[0marray\u001b[0m\u001b[0;34m(\u001b[0m\u001b[0mtops\u001b[0m\u001b[0;34m,\u001b[0m \u001b[0mfloat\u001b[0m\u001b[0;34m)\u001b[0m  \u001b[0;31m# causes problems later if it's an int\u001b[0m\u001b[0;34m\u001b[0m\u001b[0;34m\u001b[0m\u001b[0m\n",
      "\u001b[0;32m<__array_function__ internals>\u001b[0m in \u001b[0;36mhistogram\u001b[0;34m(*args, **kwargs)\u001b[0m\n",
      "\u001b[0;32m~/opt/anaconda3/lib/python3.8/site-packages/numpy/lib/histograms.py\u001b[0m in \u001b[0;36mhistogram\u001b[0;34m(a, bins, range, normed, weights, density)\u001b[0m\n\u001b[1;32m    855\u001b[0m             \u001b[0;31m# The index computation is not guaranteed to give exactly\u001b[0m\u001b[0;34m\u001b[0m\u001b[0;34m\u001b[0m\u001b[0;34m\u001b[0m\u001b[0m\n\u001b[1;32m    856\u001b[0m             \u001b[0;31m# consistent results within ~1 ULP of the bin edges.\u001b[0m\u001b[0;34m\u001b[0m\u001b[0;34m\u001b[0m\u001b[0;34m\u001b[0m\u001b[0m\n\u001b[0;32m--> 857\u001b[0;31m             \u001b[0mdecrement\u001b[0m \u001b[0;34m=\u001b[0m \u001b[0mtmp_a\u001b[0m \u001b[0;34m<\u001b[0m \u001b[0mbin_edges\u001b[0m\u001b[0;34m[\u001b[0m\u001b[0mindices\u001b[0m\u001b[0;34m]\u001b[0m\u001b[0;34m\u001b[0m\u001b[0;34m\u001b[0m\u001b[0m\n\u001b[0m\u001b[1;32m    858\u001b[0m             \u001b[0mindices\u001b[0m\u001b[0;34m[\u001b[0m\u001b[0mdecrement\u001b[0m\u001b[0;34m]\u001b[0m \u001b[0;34m-=\u001b[0m \u001b[0;36m1\u001b[0m\u001b[0;34m\u001b[0m\u001b[0;34m\u001b[0m\u001b[0m\n\u001b[1;32m    859\u001b[0m             \u001b[0;31m# The last bin includes the right edge. The other bins do not.\u001b[0m\u001b[0;34m\u001b[0m\u001b[0;34m\u001b[0m\u001b[0;34m\u001b[0m\u001b[0m\n",
      "\u001b[0;31mIndexError\u001b[0m: index -9223372036854775808 is out of bounds for axis 0 with size 11"
     ]
    },
    {
     "data": {
      "image/png": "[encoded data removed]",
      "text/plain": [
       "<Figure size 432x288 with 4 Axes>"
      ]
     },
     "metadata": {
      "needs_background": "light"
     },
     "output_type": "display_data"
    }
   ],
   "source": [
    "tweet_dfs[['lat','long','id']].hist();"
   ]
  },
  {
   "cell_type": "code",
   "execution_count": 15,
   "metadata": {},
   "outputs": [
    {
     "data": {
      "text/plain": [
       "[]"
      ]
     },
     "execution_count": 15,
     "metadata": {},
     "output_type": "execute_result"
    }
   ],
   "source": [
    "tweet_lst"
   ]
  },
  {
   "cell_type": "code",
   "execution_count": null,
   "metadata": {},
   "outputs": [],
   "source": []
  }
 ],
 "metadata": {
  "kernelspec": {
   "display_name": "Python 3",
   "language": "python",
   "name": "python3"
  },
  "language_info": {
   "codemirror_mode": {
    "name": "ipython",
    "version": 3
   },
   "file_extension": ".py",
   "mimetype": "text/x-python",
   "name": "python",
   "nbconvert_exporter": "python",
   "pygments_lexer": "ipython3",
   "version": "3.8.5"
  }
 },
 "nbformat": 4,
 "nbformat_minor": 4
}
